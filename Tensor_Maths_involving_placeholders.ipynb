{
  "nbformat": 4,
  "nbformat_minor": 0,
  "metadata": {
    "colab": {
      "name": "Tensor_Maths_involving_placeholders.ipynb",
      "provenance": [],
      "include_colab_link": true
    },
    "kernelspec": {
      "name": "python3",
      "display_name": "Python 3"
    }
  },
  "cells": [
    {
      "cell_type": "markdown",
      "metadata": {
        "id": "view-in-github",
        "colab_type": "text"
      },
      "source": [
        "<a href=\"https://colab.research.google.com/github/krishna225-k/Deep_Learning/blob/master/Tensor_Maths_involving_placeholders.ipynb\" target=\"_parent\"><img src=\"https://colab.research.google.com/assets/colab-badge.svg\" alt=\"Open In Colab\"/></a>"
      ]
    },
    {
      "cell_type": "code",
      "metadata": {
        "id": "bKWAYsDwEXNP",
        "colab_type": "code",
        "colab": {}
      },
      "source": [
        "#importing required libraries\n",
        "import tensorflow as tf\n",
        "from tensorboardcolab import *\n",
        "import shutil"
      ],
      "execution_count": 0,
      "outputs": []
    },
    {
      "cell_type": "markdown",
      "metadata": {
        "id": "Nzl6oSByE95W",
        "colab_type": "text"
      },
      "source": [
        "**Activating the TensorBoard computation graph**"
      ]
    },
    {
      "cell_type": "code",
      "metadata": {
        "id": "pJEoUMOPEowS",
        "colab_type": "code",
        "colab": {
          "base_uri": "https://localhost:8080/",
          "height": 68
        },
        "outputId": "11f1d523-285c-4c29-e7ec-d085040f92a4"
      },
      "source": [
        "tbc = TensorBoardColab()"
      ],
      "execution_count": 20,
      "outputs": [
        {
          "output_type": "stream",
          "text": [
            "Wait for 8 seconds...\n",
            "TensorBoard link:\n",
            "http://f8636690.ngrok.io\n"
          ],
          "name": "stdout"
        }
      ]
    },
    {
      "cell_type": "markdown",
      "metadata": {
        "id": "G7nG_Mv_F23T",
        "colab_type": "text"
      },
      "source": [
        "**Creating placeholder**"
      ]
    },
    {
      "cell_type": "code",
      "metadata": {
        "id": "-JA5gRuoFOJl",
        "colab_type": "code",
        "colab": {}
      },
      "source": [
        "a = tf.placeholder(tf.int32,shape=[4],name='a')\n",
        "b = tf.placeholder(tf.int32,shape=[4],name='b')"
      ],
      "execution_count": 0,
      "outputs": []
    },
    {
      "cell_type": "markdown",
      "metadata": {
        "id": "IsMr-qpXF9e3",
        "colab_type": "text"
      },
      "source": [
        "<font color='green'><h2>Creating computatin</h2></font>\n",
        "\n",
        "** Right now we only creating plan for computation.But actual computaion after assign values or variable to the place holders**"
      ]
    },
    {
      "cell_type": "code",
      "metadata": {
        "id": "s-peUDL-Fwub",
        "colab_type": "code",
        "colab": {}
      },
      "source": [
        "sum_of_a = tf.reduce_sum(a,name='sum_of_a')\n",
        "prod_of_b = tf.reduce_prod(b,name='Product_of_b')\n",
        "multiply_tensors = tf.multiply(sum_of_a,prod_of_b,name='tensor_mul')"
      ],
      "execution_count": 0,
      "outputs": []
    },
    {
      "cell_type": "markdown",
      "metadata": {
        "id": "mlmJ4MavHthz",
        "colab_type": "text"
      },
      "source": [
        "<font color='blue'><h2> Create session for computaion or instansiated session variables</h2></font>\n",
        "**Generation the result**"
      ]
    },
    {
      "cell_type": "code",
      "metadata": {
        "id": "t_bssAqPGsfq",
        "colab_type": "code",
        "colab": {
          "base_uri": "https://localhost:8080/",
          "height": 68
        },
        "outputId": "8b58bbc1-c60a-4398-ea5f-078d2fd348c6"
      },
      "source": [
        "with tf.Session() as sess:\n",
        "  print('Sum(a)',sess.run (sum_of_a,feed_dict={a: [20,30,40,50]}))\n",
        "  print('product(b)',sess.run(prod_of_b,feed_dict={b: [10,20,30,40]}))\n",
        "  print('Sum(a) * product(b)',sess.run(multiply_tensors,feed_dict={a: [20,30,40,50],b: [10,20,30,40]}))\n"
      ],
      "execution_count": 12,
      "outputs": [
        {
          "output_type": "stream",
          "text": [
            "Sum(a) 140\n",
            "product(b) 240000\n",
            "Sum(a) * product(b) 33600000\n"
          ],
          "name": "stdout"
        }
      ]
    },
    {
      "cell_type": "code",
      "metadata": {
        "id": "kHi9DRDoIWK8",
        "colab_type": "code",
        "colab": {}
      },
      "source": [
        "train_writer = tbc.get_writer()\n",
        "train_writer.add_graph(sess.graph)\n",
        "train_writer.flush()\n",
        "tbc.close()"
      ],
      "execution_count": 0,
      "outputs": []
    },
    {
      "cell_type": "code",
      "metadata": {
        "id": "BtBGJz9rL-87",
        "colab_type": "code",
        "colab": {}
      },
      "source": [
        ""
      ],
      "execution_count": 0,
      "outputs": []
    }
  ]
}